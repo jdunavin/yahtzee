{
 "cells": [
  {
   "cell_type": "markdown",
   "metadata": {},
   "source": [
    "# Yahtzee testing - Compute probabilities\n",
    "The purpose of this part is to facilitate the computation of probabilities of rolls of Yahtzee, given any current state of the dice, including any frozen dice."
   ]
  },
  {
   "cell_type": "markdown",
   "metadata": {},
   "source": [
    "## 1. Imports needed"
   ]
  },
  {
   "cell_type": "code",
   "execution_count": 1,
   "metadata": {
    "collapsed": true
   },
   "outputs": [],
   "source": [
    "import numpy as np\n",
    "import pandas as pd\n",
    "import itertools as it\n",
    "from __future__ import division"
   ]
  },
  {
   "cell_type": "markdown",
   "metadata": {
    "collapsed": true
   },
   "source": [
    "## 2. The table"
   ]
  },
  {
   "cell_type": "markdown",
   "metadata": {},
   "source": [
    "This will go as follows:\n",
    "\n",
    "1. Need to populate a column with every 5-digit combination of integers between 1 and 6.\n",
    "2. Each row will be assigned probability of ${6^{-5}}$\n",
    "3. A string representation of a dice roll will be passed, and joined to all of the rows which correspond to the dice roll. \n",
    "4. The probabilities of the rows will be summed up to the joined level, with an adjustment of $6^{k}$ applied if any $k$ dice are frozen."
   ]
  },
  {
   "cell_type": "code",
   "execution_count": 2,
   "metadata": {
    "collapsed": false
   },
   "outputs": [
    {
     "name": "stdout",
     "output_type": "stream",
     "text": [
      "('1', '2', '3', '4', '5')\n"
     ]
    }
   ],
   "source": [
    "print(list(it.permutations('123456',5))[0])"
   ]
  },
  {
   "cell_type": "code",
   "execution_count": 3,
   "metadata": {
    "collapsed": true
   },
   "outputs": [],
   "source": [
    "keys = list(it.product('123456',repeat=5))"
   ]
  },
  {
   "cell_type": "code",
   "execution_count": 4,
   "metadata": {
    "collapsed": true
   },
   "outputs": [],
   "source": [
    "keystr = [k[0] + k[1] + k[2] + k[3] + k[4] for k in keys]"
   ]
  },
  {
   "cell_type": "code",
   "execution_count": 5,
   "metadata": {
    "collapsed": false
   },
   "outputs": [
    {
     "data": {
      "text/plain": [
       "'11111'"
      ]
     },
     "execution_count": 5,
     "metadata": {},
     "output_type": "execute_result"
    }
   ],
   "source": [
    "keystr[0]"
   ]
  },
  {
   "cell_type": "code",
   "execution_count": 6,
   "metadata": {
    "collapsed": true
   },
   "outputs": [],
   "source": [
    "rollprob = [1 / (6**5) for k in keys]"
   ]
  },
  {
   "cell_type": "code",
   "execution_count": 7,
   "metadata": {
    "collapsed": true
   },
   "outputs": [],
   "source": [
    "probs = pd.DataFrame({'key':keystr, 'rollprob':rollprob})"
   ]
  },
  {
   "cell_type": "code",
   "execution_count": 8,
   "metadata": {
    "collapsed": false
   },
   "outputs": [
    {
     "data": {
      "text/html": [
       "<div>\n",
       "<table border=\"1\" class=\"dataframe\">\n",
       "  <thead>\n",
       "    <tr style=\"text-align: right;\">\n",
       "      <th></th>\n",
       "      <th>key</th>\n",
       "      <th>rollprob</th>\n",
       "    </tr>\n",
       "  </thead>\n",
       "  <tbody>\n",
       "    <tr>\n",
       "      <th>0</th>\n",
       "      <td>11111</td>\n",
       "      <td>0.000129</td>\n",
       "    </tr>\n",
       "    <tr>\n",
       "      <th>1</th>\n",
       "      <td>11112</td>\n",
       "      <td>0.000129</td>\n",
       "    </tr>\n",
       "    <tr>\n",
       "      <th>2</th>\n",
       "      <td>11113</td>\n",
       "      <td>0.000129</td>\n",
       "    </tr>\n",
       "  </tbody>\n",
       "</table>\n",
       "</div>"
      ],
      "text/plain": [
       "     key  rollprob\n",
       "0  11111  0.000129\n",
       "1  11112  0.000129\n",
       "2  11113  0.000129"
      ]
     },
     "execution_count": 8,
     "metadata": {},
     "output_type": "execute_result"
    }
   ],
   "source": [
    "probs.head(3)"
   ]
  },
  {
   "cell_type": "code",
   "execution_count": 9,
   "metadata": {
    "collapsed": false
   },
   "outputs": [
    {
     "data": {
      "text/plain": [
       "0.9999999999998496"
      ]
     },
     "execution_count": 9,
     "metadata": {},
     "output_type": "execute_result"
    }
   ],
   "source": [
    "np.sum(probs.rollprob, axis=0)"
   ]
  },
  {
   "cell_type": "code",
   "execution_count": 10,
   "metadata": {
    "collapsed": false
   },
   "outputs": [
    {
     "data": {
      "text/plain": [
       "7775.99999999883"
      ]
     },
     "execution_count": 10,
     "metadata": {},
     "output_type": "execute_result"
    }
   ],
   "source": [
    "6**5 * np.sum(probs.rollprob, axis=0)"
   ]
  },
  {
   "cell_type": "markdown",
   "metadata": {},
   "source": [
    "Whoa, these sum to something close to 1, but not exactly 1. That's weird. I'm going to proceed and see if that will be good enough."
   ]
  },
  {
   "cell_type": "markdown",
   "metadata": {},
   "source": [
    "# 3 Needed functions"
   ]
  },
  {
   "cell_type": "markdown",
   "metadata": {},
   "source": [
    "## 3.1 parseRoll\n",
    "This function will take a five character string of digits and return the values as ints in a list."
   ]
  },
  {
   "cell_type": "code",
   "execution_count": 11,
   "metadata": {
    "collapsed": true
   },
   "outputs": [],
   "source": [
    "def parseRoll(roll):\n",
    "    list = []\n",
    "    if len(roll) != 5:\n",
    "        return \"Error in parseRoll!\"\n",
    "    else:\n",
    "        for c in roll:\n",
    "            list.append(int(c))\n",
    "        return list"
   ]
  },
  {
   "cell_type": "markdown",
   "metadata": {},
   "source": [
    "Test this function:"
   ]
  },
  {
   "cell_type": "code",
   "execution_count": 12,
   "metadata": {
    "collapsed": false
   },
   "outputs": [
    {
     "data": {
      "text/plain": [
       "[1, 2, 3, 4, 5]"
      ]
     },
     "execution_count": 12,
     "metadata": {},
     "output_type": "execute_result"
    }
   ],
   "source": [
    "parseRoll('12345')"
   ]
  },
  {
   "cell_type": "markdown",
   "metadata": {},
   "source": [
    "## 3.2 valueCounts\n",
    "This function will take a five character string of digits and return a list of values where the index corresponds to  the possible values of the dice and the values are the number of times each die appears."
   ]
  },
  {
   "cell_type": "code",
   "execution_count": 17,
   "metadata": {
    "collapsed": true
   },
   "outputs": [],
   "source": [
    "def valueCounts(roll):\n",
    "    values = [0,0,0,0,0,0]\n",
    "    list = parseRoll(roll)\n",
    "    for val in list:\n",
    "        values[val-1] += 1\n",
    "    return values"
   ]
  },
  {
   "cell_type": "markdown",
   "metadata": {},
   "source": [
    "Test this function:"
   ]
  },
  {
   "cell_type": "code",
   "execution_count": 18,
   "metadata": {
    "collapsed": false
   },
   "outputs": [
    {
     "data": {
      "text/plain": [
       "[1, 1, 1, 1, 1, 0]"
      ]
     },
     "execution_count": 18,
     "metadata": {},
     "output_type": "execute_result"
    }
   ],
   "source": [
    "valueCounts('12345')"
   ]
  },
  {
   "cell_type": "code",
   "execution_count": 19,
   "metadata": {
    "collapsed": false
   },
   "outputs": [
    {
     "data": {
      "text/plain": [
       "[2, 1, 0, 1, 0, 1]"
      ]
     },
     "execution_count": 19,
     "metadata": {},
     "output_type": "execute_result"
    }
   ],
   "source": [
    "valueCounts('11246')"
   ]
  },
  {
   "cell_type": "markdown",
   "metadata": {},
   "source": [
    "## 3.3 makeRollfromList\n",
    "This function will accept an array and glue it into a string representation of a roll."
   ]
  },
  {
   "cell_type": "code",
   "execution_count": 33,
   "metadata": {
    "collapsed": true
   },
   "outputs": [],
   "source": [
    "def makeRollfromList(rollList):\n",
    "    if len(rollList) != 5:\n",
    "        return \"Error in makeRollfromList!\"\n",
    "    else:\n",
    "        rollStr = \"\".join(str(x) for x in rollList)\n",
    "        return rollStr"
   ]
  },
  {
   "cell_type": "markdown",
   "metadata": {},
   "source": [
    "Test this function:"
   ]
  },
  {
   "cell_type": "code",
   "execution_count": 35,
   "metadata": {
    "collapsed": false
   },
   "outputs": [
    {
     "data": {
      "text/plain": [
       "'12345'"
      ]
     },
     "execution_count": 35,
     "metadata": {},
     "output_type": "execute_result"
    }
   ],
   "source": [
    "makeRollfromList(['1','2','3','4','5'])"
   ]
  },
  {
   "cell_type": "markdown",
   "metadata": {},
   "source": [
    "## 3.4 probRoll\n",
    "This function will accept a five character string representing a roll and calculate the probabillty of rolling that particular combination."
   ]
  },
  {
   "cell_type": "code",
   "execution_count": 68,
   "metadata": {
    "collapsed": false
   },
   "outputs": [],
   "source": [
    "def probRoll(roll, probs):\n",
    "    probroll = 0.0\n",
    "    if len(roll) != 5:\n",
    "        return \"Error in probRoll!\"\n",
    "    else:\n",
    "        rolls = set(it.permutations(roll, r=5))\n",
    "        for s in rolls:\n",
    "            print s\n",
    "            p = probs.rollprob[probs.key==makeRollfromList(s)]\n",
    "            print p\n",
    "            probroll = probroll + float(p)\n",
    "            print probroll\n",
    "        return probroll"
   ]
  },
  {
   "cell_type": "code",
   "execution_count": 69,
   "metadata": {
    "collapsed": false
   },
   "outputs": [
    {
     "name": "stdout",
     "output_type": "stream",
     "text": [
      "('2', '3', '2', '3', '3')\n",
      "('3', '2', '3', '3', '2')\n",
      "('2', '3', '3', '3', '2')\n",
      "('2', '3', '3', '2', '3')\n",
      "('3', '3', '2', '3', '2')\n",
      "('2', '2', '3', '3', '3')\n",
      "('3', '3', '2', '2', '3')\n",
      "('3', '3', '3', '2', '2')\n",
      "('3', '2', '3', '2', '3')\n",
      "('3', '2', '2', '3', '3')\n"
     ]
    }
   ],
   "source": [
    "p = it.permutations('22333', r=5)\n",
    "pset = set(p)\n",
    "for d in pset: \n",
    "    print d"
   ]
  },
  {
   "cell_type": "code",
   "execution_count": 70,
   "metadata": {
    "collapsed": false
   },
   "outputs": [
    {
     "data": {
      "text/html": [
       "<div>\n",
       "<table border=\"1\" class=\"dataframe\">\n",
       "  <thead>\n",
       "    <tr style=\"text-align: right;\">\n",
       "      <th></th>\n",
       "      <th>key</th>\n",
       "      <th>rollprob</th>\n",
       "    </tr>\n",
       "  </thead>\n",
       "  <tbody>\n",
       "    <tr>\n",
       "      <th>0</th>\n",
       "      <td>11111</td>\n",
       "      <td>0.000129</td>\n",
       "    </tr>\n",
       "  </tbody>\n",
       "</table>\n",
       "</div>"
      ],
      "text/plain": [
       "     key  rollprob\n",
       "0  11111  0.000129"
      ]
     },
     "execution_count": 70,
     "metadata": {},
     "output_type": "execute_result"
    }
   ],
   "source": [
    "probs[probs.key=='11111']"
   ]
  },
  {
   "cell_type": "code",
   "execution_count": 71,
   "metadata": {
    "collapsed": false
   },
   "outputs": [
    {
     "name": "stdout",
     "output_type": "stream",
     "text": [
      "('1', '1', '1', '1', '1')\n",
      "0    0.000129\n",
      "Name: rollprob, dtype: float64\n",
      "0.000128600823045\n"
     ]
    },
    {
     "data": {
      "text/plain": [
       "0.0001286008230452675"
      ]
     },
     "execution_count": 71,
     "metadata": {},
     "output_type": "execute_result"
    }
   ],
   "source": [
    "probRoll('11111',probs)"
   ]
  },
  {
   "cell_type": "code",
   "execution_count": 72,
   "metadata": {
    "collapsed": false
   },
   "outputs": [
    {
     "name": "stdout",
     "output_type": "stream",
     "text": [
      "('2', '3', '2', '3', '3')\n",
      "1778    0.000129\n",
      "Name: rollprob, dtype: float64\n",
      "0.000128600823045\n",
      "('3', '2', '3', '3', '2')\n",
      "2893    0.000129\n",
      "Name: rollprob, dtype: float64\n",
      "0.000257201646091\n",
      "('2', '3', '3', '3', '2')\n",
      "1813    0.000129\n",
      "Name: rollprob, dtype: float64\n",
      "0.000385802469136\n",
      "('2', '3', '3', '2', '3')\n",
      "1808    0.000129\n",
      "Name: rollprob, dtype: float64\n",
      "0.000514403292181\n",
      "('3', '3', '2', '3', '2')\n",
      "3073    0.000129\n",
      "Name: rollprob, dtype: float64\n",
      "0.000643004115226\n",
      "('2', '2', '3', '3', '3')\n",
      "1598    0.000129\n",
      "Name: rollprob, dtype: float64\n",
      "0.000771604938272\n",
      "('3', '3', '2', '2', '3')\n",
      "3068    0.000129\n",
      "Name: rollprob, dtype: float64\n",
      "0.000900205761317\n",
      "('3', '3', '3', '2', '2')\n",
      "3103    0.000129\n",
      "Name: rollprob, dtype: float64\n",
      "0.00102880658436\n",
      "('3', '2', '3', '2', '3')\n",
      "2888    0.000129\n",
      "Name: rollprob, dtype: float64\n",
      "0.00115740740741\n",
      "('3', '2', '2', '3', '3')\n",
      "2858    0.000129\n",
      "Name: rollprob, dtype: float64\n",
      "0.00128600823045\n"
     ]
    },
    {
     "data": {
      "text/plain": [
       "0.0012860082304526753"
      ]
     },
     "execution_count": 72,
     "metadata": {},
     "output_type": "execute_result"
    }
   ],
   "source": [
    "probRoll('22333', probs)"
   ]
  },
  {
   "cell_type": "markdown",
   "metadata": {},
   "source": [
    "# Full House testing"
   ]
  },
  {
   "cell_type": "code",
   "execution_count": 80,
   "metadata": {
    "collapsed": false
   },
   "outputs": [
    {
     "data": {
      "text/plain": [
       "{('2', '2', '3', '3', '3'),\n",
       " ('2', '3', '2', '3', '3'),\n",
       " ('2', '3', '3', '2', '3'),\n",
       " ('2', '3', '3', '3', '2'),\n",
       " ('3', '2', '2', '3', '3'),\n",
       " ('3', '2', '3', '2', '3'),\n",
       " ('3', '2', '3', '3', '2'),\n",
       " ('3', '3', '2', '2', '3'),\n",
       " ('3', '3', '2', '3', '2'),\n",
       " ('3', '3', '3', '2', '2')}"
      ]
     },
     "execution_count": 80,
     "metadata": {},
     "output_type": "execute_result"
    }
   ],
   "source": [
    "set(it.permutations('22333', r=5))"
   ]
  },
  {
   "cell_type": "code",
   "execution_count": 82,
   "metadata": {
    "collapsed": false
   },
   "outputs": [
    {
     "data": {
      "text/plain": [
       "{('2', '3', '3'), ('3', '2', '3'), ('3', '3', '2')}"
      ]
     },
     "execution_count": 82,
     "metadata": {},
     "output_type": "execute_result"
    }
   ],
   "source": [
    "set(it.permutations('233', r=3))"
   ]
  },
  {
   "cell_type": "code",
   "execution_count": null,
   "metadata": {
    "collapsed": true
   },
   "outputs": [],
   "source": []
  }
 ],
 "metadata": {
  "kernelspec": {
   "display_name": "Python 2",
   "language": "python",
   "name": "python2"
  },
  "language_info": {
   "codemirror_mode": {
    "name": "ipython",
    "version": 2
   },
   "file_extension": ".py",
   "mimetype": "text/x-python",
   "name": "python",
   "nbconvert_exporter": "python",
   "pygments_lexer": "ipython2",
   "version": "2.7.12"
  }
 },
 "nbformat": 4,
 "nbformat_minor": 0
}
