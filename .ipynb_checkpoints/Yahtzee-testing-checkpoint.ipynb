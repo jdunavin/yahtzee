{
 "cells": [
  {
   "cell_type": "code",
   "execution_count": 81,
   "metadata": {
    "collapsed": true
   },
   "outputs": [],
   "source": [
    "import random\n",
    "import pandas as pd\n",
    "from operator import itemgetter\n",
    "import itertools as it"
   ]
  },
  {
   "cell_type": "code",
   "execution_count": 54,
   "metadata": {
    "collapsed": true
   },
   "outputs": [],
   "source": [
    "class Dice():\n",
    "\n",
    "    frozen = False\n",
    "    value = 0\n",
    "\n",
    "    def __init__(self, fr):\n",
    "        self.frozen = fr\n",
    "        self.value = 0\n",
    "\n",
    "    def roll(self):\n",
    "        if self.frozen:\n",
    "            return self.value\n",
    "        else:\n",
    "            self.value = random.randint(1,6) \n",
    "            return self.value\n",
    "    \n",
    "    def freeze(self):\n",
    "        self.frozen = True\n",
    "        \n",
    "    def getStatus(self):\n",
    "        return self.frozen"
   ]
  },
  {
   "cell_type": "code",
   "execution_count": 55,
   "metadata": {
    "collapsed": false
   },
   "outputs": [],
   "source": [
    "class ScoreSheet():\n",
    "    \n",
    "    \"\"\" This class implements a Yahtzee scoresheet as a Pandas dataframe.\n",
    "    This is probably swatting flies with a sledge hammer but it works. They're small\n",
    "    so an array of them could probably be used later to accommodate multiple computer players. \"\"\"\n",
    "\n",
    "# These two separate the scoresheet into the customary parts\n",
    "    upperblanks = ['Ones','Twos','Threes','Fours','Fives','Sixes']\n",
    "    lowerblanks = ['3ofAKind','4ofAKind', 'FullHouse', 'SmStraight','LgStraight','Yahtzee','YahtzeeBonus','Chance']\n",
    "\n",
    "# Allows me to alternately treat the scoresheet as a whole\n",
    "    blanks = upperblanks + lowerblanks\n",
    "\t\n",
    "\t# Assign the dataframe and initialize it\n",
    "    scores = pd.DataFrame(columns=['score','filled'], index=blanks)\n",
    "    scores['score'] = 0\n",
    "    scores['filled'] = False\n",
    "    \n",
    "\t# Takes a score and a label and fills the labeled row in the scoresheet with the score,\n",
    "\t# and marking the blank as filled\n",
    "    def fillScore(self, x, s):\n",
    "        self.scores.loc[s, 'score'] = x\n",
    "        self.scores.loc[s, 'filled'] = True\n",
    "\n",
    "    # Takes a score label and returns the associated score    \n",
    "    def getScore(self, s):\n",
    "        return self.scores.loc[s,'score']\n",
    "    \n",
    "\t# Reset a scoresheet to its initial state\n",
    "    def clearScores(self):\n",
    "        self.scores['score'] = 0\n",
    "        self.scores['filled'] = False\n",
    "     \n",
    "\t# Takes a label and resets the single line so labelled on the scoresheet to its initial state \n",
    "    def clearScore(self, s):\n",
    "        self.scores.loc[s, 'score'] = 0\n",
    "        self.scores.loc[s, 'filled'] = False\n",
    "    \n",
    "\t# Takes a label and returns the so-labelled row's filled state\n",
    "    def scoreFilled(self, s):\n",
    "        return self.scores.loc[s, 'filled']\n",
    "    \n",
    "\t# Returns the total score of the upper half of the score sheet, with applicable bonuses\n",
    "    def upperHalf(self):\n",
    "        s = sum(self.scores.loc[self.upperblanks, 'score'])\n",
    "        if (s >= 63):\n",
    "            return s + 35\n",
    "        else: \n",
    "            return s\n",
    "    \n",
    "\t# Returns the total score of the lower half of the score sheet\n",
    "    def lowerHalf(self):\n",
    "        s = sum(self.scores.loc[self.lowerblanks, 'score'])\n",
    "        return s"
   ]
  },
  {
   "cell_type": "code",
   "execution_count": 56,
   "metadata": {
    "collapsed": true
   },
   "outputs": [],
   "source": [
    "testDie = Dice(False)"
   ]
  },
  {
   "cell_type": "code",
   "execution_count": 57,
   "metadata": {
    "collapsed": false
   },
   "outputs": [
    {
     "data": {
      "text/plain": [
       "1"
      ]
     },
     "execution_count": 57,
     "metadata": {},
     "output_type": "execute_result"
    }
   ],
   "source": [
    "testDie.roll()"
   ]
  },
  {
   "cell_type": "code",
   "execution_count": 58,
   "metadata": {
    "collapsed": false
   },
   "outputs": [
    {
     "data": {
      "text/plain": [
       "True"
      ]
     },
     "execution_count": 58,
     "metadata": {},
     "output_type": "execute_result"
    }
   ],
   "source": [
    "testDie.freeze()\n",
    "testDie.getStatus()"
   ]
  },
  {
   "cell_type": "code",
   "execution_count": 59,
   "metadata": {
    "collapsed": false
   },
   "outputs": [
    {
     "data": {
      "text/plain": [
       "1"
      ]
     },
     "execution_count": 59,
     "metadata": {},
     "output_type": "execute_result"
    }
   ],
   "source": [
    "testDie.roll()"
   ]
  },
  {
   "cell_type": "code",
   "execution_count": 60,
   "metadata": {
    "collapsed": false
   },
   "outputs": [],
   "source": [
    "dice = [Dice(False) for _ in xrange(5)]"
   ]
  },
  {
   "cell_type": "code",
   "execution_count": 61,
   "metadata": {
    "collapsed": false
   },
   "outputs": [
    {
     "data": {
      "text/plain": [
       "False"
      ]
     },
     "execution_count": 61,
     "metadata": {},
     "output_type": "execute_result"
    }
   ],
   "source": [
    "dice[0].getStatus()"
   ]
  },
  {
   "cell_type": "code",
   "execution_count": 62,
   "metadata": {
    "collapsed": false
   },
   "outputs": [
    {
     "data": {
      "text/plain": [
       "3"
      ]
     },
     "execution_count": 62,
     "metadata": {},
     "output_type": "execute_result"
    }
   ],
   "source": [
    "dice[1].roll()"
   ]
  },
  {
   "cell_type": "code",
   "execution_count": 63,
   "metadata": {
    "collapsed": false
   },
   "outputs": [
    {
     "name": "stdout",
     "output_type": "stream",
     "text": [
      "This roll: 3 1 3 5 1\n",
      "[3, 1, 3, 5, 1]\n"
     ]
    }
   ],
   "source": [
    "rollTest = \"This roll:\"\n",
    "currValues = []\n",
    "valueCounts = [0 for x in xrange(1,7)]\n",
    "valueKeys = [1,2,3,4,5,6]\n",
    "\n",
    "for d in dice:\n",
    "\tcurrValues.extend([d.roll()])\n",
    "\trollTest = rollTest + \" \" + str(d.value)\n",
    "\n",
    "print rollTest\n",
    "print currValues"
   ]
  },
  {
   "cell_type": "code",
   "execution_count": 64,
   "metadata": {
    "collapsed": false
   },
   "outputs": [
    {
     "data": {
      "text/plain": [
       "[0, 0, 0, 0, 0, 0]"
      ]
     },
     "execution_count": 64,
     "metadata": {},
     "output_type": "execute_result"
    }
   ],
   "source": [
    "valueCounts"
   ]
  },
  {
   "cell_type": "code",
   "execution_count": 65,
   "metadata": {
    "collapsed": true
   },
   "outputs": [],
   "source": [
    "for j in valueKeys:\n",
    "    valueCounts[j-1] = currValues.count(j)"
   ]
  },
  {
   "cell_type": "code",
   "execution_count": 66,
   "metadata": {
    "collapsed": false
   },
   "outputs": [
    {
     "data": {
      "text/plain": [
       "[2, 0, 2, 0, 1, 0]"
      ]
     },
     "execution_count": 66,
     "metadata": {},
     "output_type": "execute_result"
    }
   ],
   "source": [
    "valueCounts"
   ]
  },
  {
   "cell_type": "code",
   "execution_count": 67,
   "metadata": {
    "collapsed": true
   },
   "outputs": [],
   "source": [
    "thisrollValues = zip(valueKeys, valueCounts)"
   ]
  },
  {
   "cell_type": "code",
   "execution_count": 68,
   "metadata": {
    "collapsed": false
   },
   "outputs": [
    {
     "data": {
      "text/plain": [
       "[(1, 2), (2, 0), (3, 2), (4, 0), (5, 1), (6, 0)]"
      ]
     },
     "execution_count": 68,
     "metadata": {},
     "output_type": "execute_result"
    }
   ],
   "source": [
    "thisrollValues"
   ]
  },
  {
   "cell_type": "markdown",
   "metadata": {},
   "source": [
    "I need to return the key(s) that show the maximum value."
   ]
  },
  {
   "cell_type": "code",
   "execution_count": 69,
   "metadata": {
    "collapsed": false
   },
   "outputs": [],
   "source": [
    "from operator import itemgetter\n",
    "sortedValues = sorted(thisrollValues, key=itemgetter(1), reverse=True)"
   ]
  },
  {
   "cell_type": "code",
   "execution_count": 70,
   "metadata": {
    "collapsed": false
   },
   "outputs": [
    {
     "data": {
      "text/plain": [
       "[(1, 2), (3, 2), (5, 1), (2, 0), (4, 0), (6, 0)]"
      ]
     },
     "execution_count": 70,
     "metadata": {},
     "output_type": "execute_result"
    }
   ],
   "source": [
    "sortedValues"
   ]
  },
  {
   "cell_type": "code",
   "execution_count": 71,
   "metadata": {
    "collapsed": false
   },
   "outputs": [],
   "source": [
    "def checkFullHouse(values):\n",
    "\t\n",
    "\t\"\"\" Takes a set of 2-tuples representing dice counts, and checks to see if it \n",
    "\tresults in a Full House == 3 of a kind + a pair \"\"\"\n",
    "\t\n",
    "\tok3 = False # Did you get 3 of a kind?\n",
    "\tok2 = False # Did you get a pair?\n",
    "\t\n",
    "\tfor d,v in values:\n",
    "\t\tif v == 3:\n",
    "\t\t\tok3 = True\n",
    "\t\telif v == 2:\n",
    "\t\t\tok2 = True\n",
    "\t\tif ok3 & ok2:  # Stop, we got it\n",
    "\t\t\tbreak\n",
    "\t\n",
    "\treturn ok3 & ok2  # Only returns true if we found three of one value and two of another"
   ]
  },
  {
   "cell_type": "code",
   "execution_count": 72,
   "metadata": {
    "collapsed": false
   },
   "outputs": [
    {
     "data": {
      "text/plain": [
       "False"
      ]
     },
     "execution_count": 72,
     "metadata": {},
     "output_type": "execute_result"
    }
   ],
   "source": [
    "checkFullHouse(sortedValues)"
   ]
  },
  {
   "cell_type": "code",
   "execution_count": 73,
   "metadata": {
    "collapsed": false
   },
   "outputs": [
    {
     "data": {
      "text/plain": [
       "True"
      ]
     },
     "execution_count": 73,
     "metadata": {},
     "output_type": "execute_result"
    }
   ],
   "source": [
    "testValues = [(1,0),(2,2),(3,0),(4,0),(5,3),(6,0)]\n",
    "checkFullHouse(testValues)"
   ]
  },
  {
   "cell_type": "code",
   "execution_count": 74,
   "metadata": {
    "collapsed": true
   },
   "outputs": [],
   "source": [
    "def checkYahtzee(values):\n",
    "\n",
    "\t\"\"\" Takes a set of 2-tuples representing dice counts, and checks to see if \n",
    "\tit is a Yahtzee (5 of a kind)\"\"\"\n",
    "\tYahtzee = False\n",
    "\t\n",
    "\tfor d,v in values:\n",
    "\t\tif v == 5:\n",
    "\t\t\tYahtzee = True\n",
    "\t\t\tbreak\n",
    "\t\telse:\n",
    "\t\t\tcontinue\n",
    "\t\n",
    "\treturn Yahtzee"
   ]
  },
  {
   "cell_type": "code",
   "execution_count": 75,
   "metadata": {
    "collapsed": false
   },
   "outputs": [
    {
     "data": {
      "text/plain": [
       "False"
      ]
     },
     "execution_count": 75,
     "metadata": {},
     "output_type": "execute_result"
    }
   ],
   "source": [
    "checkYahtzee(sortedValues)"
   ]
  },
  {
   "cell_type": "code",
   "execution_count": 76,
   "metadata": {
    "collapsed": false
   },
   "outputs": [
    {
     "data": {
      "text/plain": [
       "True"
      ]
     },
     "execution_count": 76,
     "metadata": {},
     "output_type": "execute_result"
    }
   ],
   "source": [
    "testValues = [(1,0),(2,0),(3,5),(4,0),(5,0),(6,0)]\n",
    "checkYahtzee(testValues)"
   ]
  },
  {
   "cell_type": "code",
   "execution_count": 77,
   "metadata": {
    "collapsed": false
   },
   "outputs": [
    {
     "data": {
      "text/plain": [
       "[3, 1, 3, 5, 1]"
      ]
     },
     "execution_count": 77,
     "metadata": {},
     "output_type": "execute_result"
    }
   ],
   "source": [
    "currValues"
   ]
  },
  {
   "cell_type": "code",
   "execution_count": 83,
   "metadata": {
    "collapsed": false
   },
   "outputs": [
    {
     "data": {
      "text/plain": [
       "<itertools.groupby at 0x8368ef8>"
      ]
     },
     "execution_count": 83,
     "metadata": {},
     "output_type": "execute_result"
    }
   ],
   "source": [
    "it.groupby(currValues)"
   ]
  },
  {
   "cell_type": "code",
   "execution_count": 84,
   "metadata": {
    "collapsed": true
   },
   "outputs": [],
   "source": [
    "data = [ 1,  4,5,6, 10, 15,16,17,18, 22, 25,26,27,28]"
   ]
  },
  {
   "cell_type": "code",
   "execution_count": 85,
   "metadata": {
    "collapsed": false
   },
   "outputs": [
    {
     "data": {
      "text/plain": [
       "<enumerate at 0x8351a68>"
      ]
     },
     "execution_count": 85,
     "metadata": {},
     "output_type": "execute_result"
    }
   ],
   "source": [
    "enumerate(data)"
   ]
  },
  {
   "cell_type": "code",
   "execution_count": 86,
   "metadata": {
    "collapsed": false
   },
   "outputs": [
    {
     "name": "stdout",
     "output_type": "stream",
     "text": [
      "<enumerate object at 0x0000000008351B40>\n"
     ]
    }
   ],
   "source": [
    "print enumerate(data)"
   ]
  },
  {
   "cell_type": "code",
   "execution_count": 117,
   "metadata": {
    "collapsed": false
   },
   "outputs": [],
   "source": [
    "def checkSmStraight(values):\n",
    "\n",
    "\t\"\"\" Takes a set of die rolls, and checks to see if \n",
    "\tit is a small straight (run of 4)\"\"\"\n",
    "\tsmStraight = False\n",
    "\tsvalues = sorted(values)\n",
    "\t\n",
    "\tfor (k,g) in it.groupby(enumerate(svalues), lambda (i,x):i-x):\n",
    "\t\tif len(map(itemgetter(1),g)) >=4:\n",
    "\t\t\tsmStraight = True\n",
    "\t\t\tbreak\n",
    "\t\t\n",
    "\treturn smStraight"
   ]
  },
  {
   "cell_type": "code",
   "execution_count": 118,
   "metadata": {
    "collapsed": false
   },
   "outputs": [
    {
     "name": "stdout",
     "output_type": "stream",
     "text": [
      "-1\n",
      "<itertools._grouper object at 0x000000000818D5F8>\n",
      "[1]\n",
      "0\n",
      "<itertools._grouper object at 0x000000000818D470>\n",
      "[1]\n",
      "-1\n",
      "<itertools._grouper object at 0x000000000818D358>\n",
      "[3]\n",
      "0\n",
      "<itertools._grouper object at 0x000000000818D470>\n",
      "[3]\n",
      "-1\n",
      "<itertools._grouper object at 0x000000000818D358>\n",
      "[5]\n"
     ]
    },
    {
     "data": {
      "text/plain": [
       "False"
      ]
     },
     "execution_count": 118,
     "metadata": {},
     "output_type": "execute_result"
    }
   ],
   "source": [
    "checkSmStraight(currValues)"
   ]
  },
  {
   "cell_type": "code",
   "execution_count": 119,
   "metadata": {
    "collapsed": true
   },
   "outputs": [],
   "source": [
    "test1 = [1,2,3,4,4,4]"
   ]
  },
  {
   "cell_type": "code",
   "execution_count": 120,
   "metadata": {
    "collapsed": false
   },
   "outputs": [
    {
     "name": "stdout",
     "output_type": "stream",
     "text": [
      "-1\n",
      "<itertools._grouper object at 0x000000000818D080>\n",
      "[1, 2, 3, 4]\n",
      "0\n",
      "<itertools._grouper object at 0x000000000818D358>\n",
      "[4]\n",
      "1\n",
      "<itertools._grouper object at 0x000000000818D080>\n",
      "[4]\n"
     ]
    },
    {
     "data": {
      "text/plain": [
       "False"
      ]
     },
     "execution_count": 120,
     "metadata": {},
     "output_type": "execute_result"
    }
   ],
   "source": [
    "checkSmStraight(test1)"
   ]
  },
  {
   "cell_type": "code",
   "execution_count": 112,
   "metadata": {
    "collapsed": false
   },
   "outputs": [
    {
     "name": "stdout",
     "output_type": "stream",
     "text": [
      "[1, 3, 4, 4, 5]\n"
     ]
    },
    {
     "data": {
      "text/plain": [
       "False"
      ]
     },
     "execution_count": 112,
     "metadata": {},
     "output_type": "execute_result"
    }
   ],
   "source": [
    "test2 = [1,3,4,5,4]\n",
    "checkSmStraight(test2)"
   ]
  },
  {
   "cell_type": "code",
   "execution_count": 113,
   "metadata": {
    "collapsed": false
   },
   "outputs": [
    {
     "name": "stdout",
     "output_type": "stream",
     "text": [
      "[1, 3, 4, 5, 6]\n"
     ]
    },
    {
     "data": {
      "text/plain": [
       "True"
      ]
     },
     "execution_count": 113,
     "metadata": {},
     "output_type": "execute_result"
    }
   ],
   "source": [
    "checkSmStraight(sorted([6,4,3,5,1]))"
   ]
  },
  {
   "cell_type": "code",
   "execution_count": 114,
   "metadata": {
    "collapsed": false
   },
   "outputs": [
    {
     "name": "stdout",
     "output_type": "stream",
     "text": [
      "[1, 3, 4, 5, 6]\n"
     ]
    },
    {
     "data": {
      "text/plain": [
       "True"
      ]
     },
     "execution_count": 114,
     "metadata": {},
     "output_type": "execute_result"
    }
   ],
   "source": [
    "checkSmStraight([6,4,3,5,1])"
   ]
  },
  {
   "cell_type": "code",
   "execution_count": null,
   "metadata": {
    "collapsed": true
   },
   "outputs": [],
   "source": []
  }
 ],
 "metadata": {
  "kernelspec": {
   "display_name": "Python 2",
   "language": "python",
   "name": "python2"
  },
  "language_info": {
   "codemirror_mode": {
    "name": "ipython",
    "version": 2
   },
   "file_extension": ".py",
   "mimetype": "text/x-python",
   "name": "python",
   "nbconvert_exporter": "python",
   "pygments_lexer": "ipython2",
   "version": "2.7.11"
  }
 },
 "nbformat": 4,
 "nbformat_minor": 0
}
