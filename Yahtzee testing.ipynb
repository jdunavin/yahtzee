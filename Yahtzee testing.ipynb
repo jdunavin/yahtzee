{
 "cells": [
  {
   "cell_type": "markdown",
   "metadata": {},
   "source": [
    "# Yahtzee testing - Compute probabilities\n",
    "The purpose of this part is to facilitate the computation of probabilities of rolls of Yahtzee, given any current state of the dice, including any frozen dice."
   ]
  },
  {
   "cell_type": "markdown",
   "metadata": {},
   "source": [
    "## 1. Imports needed"
   ]
  },
  {
   "cell_type": "code",
   "execution_count": 1,
   "metadata": {
    "collapsed": true
   },
   "outputs": [],
   "source": [
    "import numpy as np\n",
    "import pandas as pd"
   ]
  },
  {
   "cell_type": "markdown",
   "metadata": {
    "collapsed": true
   },
   "source": [
    "## 2. The table"
   ]
  },
  {
   "cell_type": "markdown",
   "metadata": {},
   "source": [
    "This will go as follows:\n",
    "\n",
    "1. Need to populate a column with every 5-digit combination of integers between 1 and 6.\n",
    "2. Each row will be assigned probability of ${6^{-5}}$\n",
    "3. A string representation of a dice roll will be passed, and joined to all of the rows which correspond to the dice roll. \n",
    "4. The probabilities of the rows will be summed up to the joined level, with an adjustment of $6^{k}$ applied if any $k$ dice are frozen."
   ]
  },
  {
   "cell_type": "code",
   "execution_count": null,
   "metadata": {
    "collapsed": true
   },
   "outputs": [],
   "source": []
  }
 ],
 "metadata": {
  "kernelspec": {
   "display_name": "Python 2",
   "language": "python",
   "name": "python2"
  },
  "language_info": {
   "codemirror_mode": {
    "name": "ipython",
    "version": 2
   },
   "file_extension": ".py",
   "mimetype": "text/x-python",
   "name": "python",
   "nbconvert_exporter": "python",
   "pygments_lexer": "ipython2",
   "version": "2.7.11"
  }
 },
 "nbformat": 4,
 "nbformat_minor": 0
}
